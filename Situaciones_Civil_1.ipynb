{
  "nbformat": 4,
  "nbformat_minor": 0,
  "metadata": {
    "colab": {
      "provenance": [],
      "authorship_tag": "ABX9TyOc/9MskYZyC7C7HnAIe3Zm",
      "include_colab_link": true
    },
    "kernelspec": {
      "name": "python3",
      "display_name": "Python 3"
    },
    "language_info": {
      "name": "python"
    }
  },
  "cells": [
    {
      "cell_type": "markdown",
      "metadata": {
        "id": "view-in-github",
        "colab_type": "text"
      },
      "source": [
        "<a href=\"https://colab.research.google.com/github/paulandrea243/Situaciones-Civil-Semana-1/blob/main/Situaciones_Civil_1.ipynb\" target=\"_parent\"><img src=\"https://colab.research.google.com/assets/colab-badge.svg\" alt=\"Open In Colab\"/></a>"
      ]
    },
    {
      "cell_type": "code",
      "execution_count": null,
      "metadata": {
        "id": "QPK7xHXcHmK8"
      },
      "outputs": [],
      "source": []
    },
    {
      "cell_type": "markdown",
      "source": [
        "*Situación de Interés en Ingeniería Agrícola:\n",
        "\n",
        "Un agricultor necesita saber cuántos kilogramos\n",
        "de semilla de maíz debe comprar para sembrar un lote rectangular. Conoce la densidad de siembra\n",
        "recomendada (kg por hectárea) y las dimensiones del lote (largo y ancho en metros).\n",
        "\n"
      ],
      "metadata": {
        "id": "bI815q8NIbL1"
      }
    },
    {
      "cell_type": "code",
      "source": [
        "# Cálculo de Semillas\n",
        "#1.  Saludar al usuario y explicar qué hace el programa.\n",
        "print (\"Bienvenidos al calculo de semillas\")\n",
        "\n",
        "# 2. Pedir al usuario que ingrese el largo del lote en metros (input sin conversion)\n",
        "largo = input(\"Ingrese el largo del lote en metros: \")\n",
        "\n",
        "# 3. Pedir al usuario que ingrese el ancho del lote en metros (input sin conversion)\n",
        "ancho = input(\"Ingrese el ancho del lote en metros: \")\n",
        "\n",
        "# 4. Pedir la densidad de siembra en kg/hectárea (input).\n",
        "densidad = input(\"Ingrese la densidad de siembra en kg/hectárea: \")\n",
        "\n",
        "# 5. Convertir las entradas de texto a números decimales (float).\n",
        "largo = float(largo)\n",
        "ancho = float(ancho)\n",
        "densidad = float(densidad)\n",
        "\n",
        "# 6. Calcular el área en metros cuadrados (largo * ancho).\n",
        "area = largo * ancho\n",
        "\n",
        "# 7. Convertir el área a hectáreas (1 hectárea = 10,000 m2).\n",
        "area = area / 10000\n",
        "\n",
        "# 8 Calcular la cantidad total de semilla (área en hectáreas * densidad).\n",
        "semillas = area * densidad\n",
        "\n",
        "# 9. Mostrar el resultado al usuario.}\n",
        "print(\"La cantidad total de semillas a comprar es:\", semillas, \"kg\")"
      ],
      "metadata": {
        "colab": {
          "base_uri": "https://localhost:8080/"
        },
        "id": "hhLOOXMHI4Xr",
        "outputId": "c4b26c59-bdbc-476e-d099-8e9024739224"
      },
      "execution_count": null,
      "outputs": [
        {
          "output_type": "stream",
          "name": "stdout",
          "text": [
            "Bienvenidos al calculo de semillas\n"
          ]
        }
      ]
    },
    {
      "cell_type": "markdown",
      "metadata": {
        "id": "ae3b6bc2"
      },
      "source": [
        "Aquí tienes la explicación del código línea por línea:\n",
        "\n",
        "1.  `print (\"Bienvenidos al calculo de semillas\")`: Esta línea imprime un mensaje de bienvenida al usuario, indicando el propósito del programa.\n",
        "2.  `largo = input(\"Ingrese el largo del lote en metros: \")`: Esta línea solicita al usuario que ingrese el largo del lote en metros y almacena la entrada como texto en la variable `largo`.\n",
        "3.  `ancho = input(\"Ingrese el ancho del lote en metros: \")`: Similar a la anterior, pide al ancho del lote en metros y lo guarda como texto en la variable `ancho`.\n",
        "4.  `densidad = input(\"Ingrese la densidad de siembra en kg/hectárea: \")`: Solicita la densidad de siembra en kg por hectárea y la almacena como texto en la variable `densidad`.\n",
        "5.  `largo = float(largo)`: Convierte el texto ingresado para el largo a un número decimal (flotante) y actualiza la variable `largo`.\n",
        "6.  `ancho = float(ancho)`: Convierte el texto ingresado para el ancho a un número decimal y actualiza la variable `ancho`.\n",
        "7.  `densidad = float(densidad)`: Convierte el texto ingresado para la densidad a un número decimal y actualiza la variable `densidad`.\n",
        "8.  `area = largo * ancho`: Calcula el área del lote en metros cuadrados multiplicando el largo por el ancho y almacena el resultado en la variable `area`.\n",
        "9.  `area = area / 10000`: Convierte el área de metros cuadrados a hectáreas dividiendo por 10,000 (ya que 1 hectárea = 10,000 m²). El resultado se almacena de nuevo en la variable `area`.\n",
        "10. `semillas = area * densidad`: Calcula la cantidad total de semilla necesaria multiplicando el área en hectáreas por la densidad de siembra y almacena el resultado en la variable `semillas`.\n",
        "11. `print(\"La cantidad total de semillas a comprar es:\", semillas, \"kg\")`: Imprime el resultado final al usuario, mostrando la cantidad total de semillas a comprar en kilogramos."
      ]
    }
  ]
}